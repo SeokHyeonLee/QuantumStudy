{
 "cells": [
  {
   "cell_type": "code",
   "execution_count": 80,
   "metadata": {},
   "outputs": [],
   "source": [
    "import numpy as np\n",
    "\n",
    "from qiskit                 import *\n",
    "from qiskit.quantum_info    import *\n",
    "from qiskit.visualization   import *"
   ]
  },
  {
   "cell_type": "code",
   "execution_count": 91,
   "metadata": {},
   "outputs": [],
   "source": [
    "def AND_computation(qc, x, y, ancilla):\n",
    "    qc.cx(x, ancilla)\n",
    "    qc.cx(y, ancilla)\n",
    "    qc.cx(ancilla, x)\n",
    "    qc.cx(ancilla, y)\n",
    "\n",
    "    qc.tdg(x)\n",
    "    qc.tdg(y)\n",
    "    qc.t(ancilla)\n",
    "\n",
    "    qc.cx(ancilla, x)\n",
    "    qc.cx(ancilla, y)\n",
    "\n",
    "    qc.h(ancilla)\n",
    "    qc.s(ancilla)"
   ]
  },
  {
   "cell_type": "code",
   "execution_count": 92,
   "metadata": {},
   "outputs": [],
   "source": [
    "def AND_uncomputation(qc, x,y,ancilla):\n",
    "    qc.sdg(ancilla)\n",
    "    qc.h(ancilla)\n",
    "\n",
    "    qc.cx(ancilla, y)\n",
    "    qc.cx(ancilla, x)\n",
    "\n",
    "    qc.t(x)\n",
    "    qc.t(y)\n",
    "    qc.tdg(ancilla)\n",
    "\n",
    "    qc.cx(ancilla, x)\n",
    "    qc.cx(ancilla, y)\n",
    "\n",
    "    qc.cx(x, ancilla)\n",
    "    qc.cx(y, ancilla)"
   ]
  },
  {
   "cell_type": "code",
   "execution_count": 93,
   "metadata": {},
   "outputs": [],
   "source": [
    "def addition_1(qc, ctrl, c0, x, y, c1):\n",
    "    qc.cx(c0, x)\n",
    "    qc.cx(c0, y)\n",
    "    AND_computation(qc, x,y,c1)\n",
    "    qc.cx(c0, c1)\n",
    "    \n",
    "    \n"
   ]
  },
  {
   "cell_type": "code",
   "execution_count": 94,
   "metadata": {},
   "outputs": [],
   "source": [
    "ZERO = [1,0]\n",
    "ONE = [0,1]\n",
    "T_STATE = [1/np.sqrt(2), 1/np.sqrt(2)*np.exp(complex(0,1)*np.pi/4)]"
   ]
  },
  {
   "cell_type": "code",
   "execution_count": 95,
   "metadata": {},
   "outputs": [],
   "source": [
    "n_bit = 1"
   ]
  },
  {
   "cell_type": "code",
   "execution_count": 96,
   "metadata": {},
   "outputs": [],
   "source": [
    "qr = QuantumRegister(1+n_bit*4, name='qubit')\n",
    "cr = ClassicalRegister(n_bit, name='bit')\n",
    "\n",
    "qc = QuantumCircuit(qr)"
   ]
  },
  {
   "cell_type": "code",
   "execution_count": 97,
   "metadata": {},
   "outputs": [
    {
     "data": {
      "text/html": [
       "<pre style=\"word-wrap: normal;white-space: pre;background: #fff0;line-height: 1.1;font-family: &quot;Courier New&quot;,Courier,monospace\">               ┌─────────────────┐       \n",
       "qubit_0: ──────┤ Initialize(0,1) ├───────\n",
       "               ├─────────────────┤       \n",
       "qubit_1: ──────┤ Initialize(1,0) ├───────\n",
       "               ├─────────────────┤       \n",
       "qubit_2: ──────┤ Initialize(1,0) ├───────\n",
       "               ├─────────────────┤       \n",
       "qubit_3: ──────┤ Initialize(0,1) ├───────\n",
       "         ┌─────┴─────────────────┴──────┐\n",
       "qubit_4: ┤ Initialize(0.70711,0.5+0.5j) ├\n",
       "         └──────────────────────────────┘</pre>"
      ],
      "text/plain": [
       "               ┌─────────────────┐       \n",
       "qubit_0: ──────┤ Initialize(0,1) ├───────\n",
       "               ├─────────────────┤       \n",
       "qubit_1: ──────┤ Initialize(1,0) ├───────\n",
       "               ├─────────────────┤       \n",
       "qubit_2: ──────┤ Initialize(1,0) ├───────\n",
       "               ├─────────────────┤       \n",
       "qubit_3: ──────┤ Initialize(0,1) ├───────\n",
       "         ┌─────┴─────────────────┴──────┐\n",
       "qubit_4: ┤ Initialize(0.70711,0.5+0.5j) ├\n",
       "         └──────────────────────────────┘"
      ]
     },
     "execution_count": 97,
     "metadata": {},
     "output_type": "execute_result"
    }
   ],
   "source": [
    "qc.initialize(ONE,0)\n",
    "qc.initialize(ZERO, 1)\n",
    "qc.initialize(ZERO, 2)\n",
    "qc.initialize(ONE, 3)\n",
    "qc.initialize(T_STATE, 4)\n",
    "\n",
    "qc.draw()\n"
   ]
  },
  {
   "cell_type": "code",
   "execution_count": 98,
   "metadata": {},
   "outputs": [
    {
     "data": {
      "text/html": [
       "<pre style=\"word-wrap: normal;white-space: pre;background: #fff0;line-height: 1.1;font-family: &quot;Courier New&quot;,Courier,monospace\">               ┌─────────────────┐                                         »\n",
       "qubit_0: ──────┤ Initialize(0,1) ├─────────────────────────────────────────»\n",
       "               ├─────────────────┤                                         »\n",
       "qubit_1: ──────┤ Initialize(1,0) ├─────────────────────────────────────────»\n",
       "               ├─────────────────┤                 ┌───┐┌─────┐       ┌───┐»\n",
       "qubit_2: ──────┤ Initialize(1,0) ├─────────■───────┤ X ├┤ Tdg ├───────┤ X ├»\n",
       "               ├─────────────────┤         │       └─┬─┘└┬───┬┘┌─────┐└─┬─┘»\n",
       "qubit_3: ──────┤ Initialize(0,1) ├─────────┼────■────┼───┤ X ├─┤ Tdg ├──┼──»\n",
       "         ┌─────┴─────────────────┴──────┐┌─┴─┐┌─┴─┐  │   └─┬─┘ └┬───┬┘  │  »\n",
       "qubit_4: ┤ Initialize(0.70711,0.5+0.5j) ├┤ X ├┤ X ├──■─────■────┤ T ├───■──»\n",
       "         └──────────────────────────────┘└───┘└───┘             └───┘      »\n",
       "«                                                                         \n",
       "«qubit_0: ────────────────────────────────────────────────────────────────\n",
       "«                                                                         \n",
       "«qubit_1: ────────────────────────────────────────────────────────────────\n",
       "«                                         ┌───┐ ┌───┐ ┌───┐               \n",
       "«qubit_2: ────────────────────────────────┤ X ├─┤ T ├─┤ X ├───────■───────\n",
       "«         ┌───┐                      ┌───┐└─┬─┘ ├───┤ └─┬─┘┌───┐  │       \n",
       "«qubit_3: ┤ X ├──────────────────────┤ X ├──┼───┤ T ├───┼──┤ X ├──┼────■──\n",
       "«         └─┬─┘┌───┐┌───┐┌─────┐┌───┐└─┬─┘  │  ┌┴───┴┐  │  └─┬─┘┌─┴─┐┌─┴─┐\n",
       "«qubit_4: ──■──┤ H ├┤ S ├┤ Sdg ├┤ H ├──■────■──┤ Tdg ├──■────■──┤ X ├┤ X ├\n",
       "«              └───┘└───┘└─────┘└───┘          └─────┘          └───┘└───┘</pre>"
      ],
      "text/plain": [
       "               ┌─────────────────┐                                         »\n",
       "qubit_0: ──────┤ Initialize(0,1) ├─────────────────────────────────────────»\n",
       "               ├─────────────────┤                                         »\n",
       "qubit_1: ──────┤ Initialize(1,0) ├─────────────────────────────────────────»\n",
       "               ├─────────────────┤                 ┌───┐┌─────┐       ┌───┐»\n",
       "qubit_2: ──────┤ Initialize(1,0) ├─────────■───────┤ X ├┤ Tdg ├───────┤ X ├»\n",
       "               ├─────────────────┤         │       └─┬─┘└┬───┬┘┌─────┐└─┬─┘»\n",
       "qubit_3: ──────┤ Initialize(0,1) ├─────────┼────■────┼───┤ X ├─┤ Tdg ├──┼──»\n",
       "         ┌─────┴─────────────────┴──────┐┌─┴─┐┌─┴─┐  │   └─┬─┘ └┬───┬┘  │  »\n",
       "qubit_4: ┤ Initialize(0.70711,0.5+0.5j) ├┤ X ├┤ X ├──■─────■────┤ T ├───■──»\n",
       "         └──────────────────────────────┘└───┘└───┘             └───┘      »\n",
       "«                                                                         \n",
       "«qubit_0: ────────────────────────────────────────────────────────────────\n",
       "«                                                                         \n",
       "«qubit_1: ────────────────────────────────────────────────────────────────\n",
       "«                                         ┌───┐ ┌───┐ ┌───┐               \n",
       "«qubit_2: ────────────────────────────────┤ X ├─┤ T ├─┤ X ├───────■───────\n",
       "«         ┌───┐                      ┌───┐└─┬─┘ ├───┤ └─┬─┘┌───┐  │       \n",
       "«qubit_3: ┤ X ├──────────────────────┤ X ├──┼───┤ T ├───┼──┤ X ├──┼────■──\n",
       "«         └─┬─┘┌───┐┌───┐┌─────┐┌───┐└─┬─┘  │  ┌┴───┴┐  │  └─┬─┘┌─┴─┐┌─┴─┐\n",
       "«qubit_4: ──■──┤ H ├┤ S ├┤ Sdg ├┤ H ├──■────■──┤ Tdg ├──■────■──┤ X ├┤ X ├\n",
       "«              └───┘└───┘└─────┘└───┘          └─────┘          └───┘└───┘"
      ]
     },
     "execution_count": 98,
     "metadata": {},
     "output_type": "execute_result"
    }
   ],
   "source": [
    "#addition_1(qc, 0, 1,2,3,4)\n",
    "AND_computation(qc, qr[2],qr[3],qr[4])\n",
    "AND_uncomputation(qc, qr[2],qr[3],qr[4])\n",
    "qc.draw()"
   ]
  },
  {
   "cell_type": "code",
   "execution_count": 99,
   "metadata": {},
   "outputs": [
    {
     "name": "stdout",
     "output_type": "stream",
     "text": [
      "Statevector([0.        +0.00000000e+00j, 0.        +0.00000000e+00j,\n",
      "             0.        +0.00000000e+00j, 0.        +0.00000000e+00j,\n",
      "             0.        +0.00000000e+00j, 0.        +0.00000000e+00j,\n",
      "             0.        +0.00000000e+00j, 0.        +0.00000000e+00j,\n",
      "             0.        +0.00000000e+00j, 0.70710678-1.11022302e-16j,\n",
      "             0.        +0.00000000e+00j, 0.        +0.00000000e+00j,\n",
      "             0.        +0.00000000e+00j, 0.        +0.00000000e+00j,\n",
      "             0.        +0.00000000e+00j, 0.        +0.00000000e+00j,\n",
      "             0.        +0.00000000e+00j, 0.        +0.00000000e+00j,\n",
      "             0.        +0.00000000e+00j, 0.        +0.00000000e+00j,\n",
      "             0.        +0.00000000e+00j, 0.        +0.00000000e+00j,\n",
      "             0.        +0.00000000e+00j, 0.        +0.00000000e+00j,\n",
      "             0.        +0.00000000e+00j, 0.5       +5.00000000e-01j,\n",
      "             0.        +0.00000000e+00j, 0.        +0.00000000e+00j,\n",
      "             0.        +0.00000000e+00j, 0.        +0.00000000e+00j,\n",
      "             0.        +0.00000000e+00j, 0.        +0.00000000e+00j],\n",
      "            dims=(2, 2, 2, 2, 2))\n"
     ]
    },
    {
     "data": {
      "text/latex": [
       "$$\n",
       "\\text{Statevector = }\n",
       "\\begin{bmatrix}\n",
       "0 & 0 & 0 & 0 & \\cdots & 0 & 0 & 0  \\\\\n",
       " \\end{bmatrix}\n",
       "$$"
      ],
      "text/plain": [
       "<IPython.core.display.Latex object>"
      ]
     },
     "execution_count": 99,
     "metadata": {},
     "output_type": "execute_result"
    }
   ],
   "source": [
    "svsim = Aer.get_backend('qasm_simulator')\n",
    "qc.save_statevector()\n",
    "qobj = assemble(qc)\n",
    "final_state = svsim.run(qobj).result().get_statevector()\n",
    "print(final_state)\n",
    "array_to_latex(final_state, prefix=\"\\\\text{Statevector = }\")"
   ]
  },
  {
   "cell_type": "code",
   "execution_count": null,
   "metadata": {},
   "outputs": [],
   "source": []
  },
  {
   "cell_type": "code",
   "execution_count": null,
   "metadata": {},
   "outputs": [],
   "source": []
  }
 ],
 "metadata": {
  "kernelspec": {
   "display_name": "Python 3.10.7 64-bit (microsoft store)",
   "language": "python",
   "name": "python3"
  },
  "language_info": {
   "codemirror_mode": {
    "name": "ipython",
    "version": 3
   },
   "file_extension": ".py",
   "mimetype": "text/x-python",
   "name": "python",
   "nbconvert_exporter": "python",
   "pygments_lexer": "ipython3",
   "version": "3.10.7"
  },
  "orig_nbformat": 4,
  "vscode": {
   "interpreter": {
    "hash": "10da506da104458c10cabfe057724791f54911547ab510833fd12e765884e256"
   }
  }
 },
 "nbformat": 4,
 "nbformat_minor": 2
}
