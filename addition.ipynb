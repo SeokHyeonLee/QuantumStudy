{
 "cells": [
  {
   "cell_type": "code",
   "execution_count": 62,
   "metadata": {},
   "outputs": [],
   "source": [
    "import numpy as np\n",
    "from qiskit                 import *\n",
    "from qiskit.quantum_info    import *\n",
    "from qiskit.visualization   import *"
   ]
  },
  {
   "cell_type": "code",
   "execution_count": 63,
   "metadata": {},
   "outputs": [],
   "source": [
    "def AND_computation(qc, x, y, ancilla):\n",
    "    qc.cx(x, ancilla)\n",
    "    qc.cx(y, ancilla)\n",
    "    qc.cx(ancilla, x)\n",
    "    qc.cx(ancilla, y)\n",
    "\n",
    "    qc.tdg(x)\n",
    "    qc.tdg(y)\n",
    "    qc.t(ancilla)\n",
    "\n",
    "    qc.cx(ancilla, x)\n",
    "    qc.cx(ancilla, y)\n",
    "\n",
    "    qc.h(ancilla)\n",
    "    qc.s(ancilla)"
   ]
  },
  {
   "cell_type": "code",
   "execution_count": 64,
   "metadata": {},
   "outputs": [],
   "source": [
    "def AND_uncomputation(qc, x,y,ancilla):\n",
    "    qc.sdg(ancilla)\n",
    "    qc.h(ancilla)\n",
    "\n",
    "    qc.cx(ancilla, y)\n",
    "    qc.cx(ancilla, x)\n",
    "\n",
    "    qc.t(x)\n",
    "    qc.t(y)\n",
    "    qc.tdg(ancilla)\n",
    "\n",
    "    qc.cx(ancilla, x)\n",
    "    qc.cx(ancilla, y)\n",
    "\n",
    "    qc.cx(x, ancilla)\n",
    "    qc.cx(y, ancilla)"
   ]
  },
  {
   "cell_type": "code",
   "execution_count": 65,
   "metadata": {},
   "outputs": [],
   "source": [
    "def addition_1(qc, ctrl, c0, x, y, c1):\n",
    "    qc.cx(c0, x)\n",
    "    qc.cx(c0, y)\n",
    "    AND_computation(qc, x,y,c1)\n",
    "    qc.cx(c0, c1)\n",
    "    \n",
    "    \n"
   ]
  },
  {
   "cell_type": "code",
   "execution_count": 66,
   "metadata": {},
   "outputs": [],
   "source": [
    "ZERO = [1,0]\n",
    "ONE = [0,1]\n",
    "T_STATE = [1/np.sqrt(2), 1/np.sqrt(2)*np.exp(complex(0,1)*np.pi/4)]"
   ]
  },
  {
   "cell_type": "code",
   "execution_count": 67,
   "metadata": {},
   "outputs": [],
   "source": [
    "n_bit = 1"
   ]
  },
  {
   "cell_type": "code",
   "execution_count": 68,
   "metadata": {},
   "outputs": [],
   "source": [
    "qr = QuantumRegister(1+n_bit*4, name='qubit')\n",
    "cr = ClassicalRegister(n_bit, name='bit')\n",
    "\n",
    "qc = QuantumCircuit(qr)"
   ]
  },
  {
   "cell_type": "code",
   "execution_count": 69,
   "metadata": {},
   "outputs": [
    {
     "data": {
      "text/html": [
       "<pre style=\"word-wrap: normal;white-space: pre;background: #fff0;line-height: 1.1;font-family: &quot;Courier New&quot;,Courier,monospace\">               ┌─────────────────┐       \n",
       "qubit_0: ──────┤ Initialize(0,1) ├───────\n",
       "               ├─────────────────┤       \n",
       "qubit_1: ──────┤ Initialize(1,0) ├───────\n",
       "               ├─────────────────┤       \n",
       "qubit_2: ──────┤ Initialize(1,0) ├───────\n",
       "               ├─────────────────┤       \n",
       "qubit_3: ──────┤ Initialize(0,1) ├───────\n",
       "         ┌─────┴─────────────────┴──────┐\n",
       "qubit_4: ┤ Initialize(0.70711,0.5+0.5j) ├\n",
       "         └──────────────────────────────┘</pre>"
      ],
      "text/plain": [
       "               ┌─────────────────┐       \n",
       "qubit_0: ──────┤ Initialize(0,1) ├───────\n",
       "               ├─────────────────┤       \n",
       "qubit_1: ──────┤ Initialize(1,0) ├───────\n",
       "               ├─────────────────┤       \n",
       "qubit_2: ──────┤ Initialize(1,0) ├───────\n",
       "               ├─────────────────┤       \n",
       "qubit_3: ──────┤ Initialize(0,1) ├───────\n",
       "         ┌─────┴─────────────────┴──────┐\n",
       "qubit_4: ┤ Initialize(0.70711,0.5+0.5j) ├\n",
       "         └──────────────────────────────┘"
      ]
     },
     "execution_count": 69,
     "metadata": {},
     "output_type": "execute_result"
    }
   ],
   "source": [
    "qc.initialize(ONE,0)\n",
    "qc.initialize(ZERO, 1)\n",
    "qc.initialize(ZERO, 2)\n",
    "qc.initialize(ONE, 3)\n",
    "qc.initialize(T_STATE, 4)\n",
    "\n",
    "qc.draw()\n"
   ]
  },
  {
   "cell_type": "code",
   "execution_count": 72,
   "metadata": {},
   "outputs": [
    {
     "data": {
      "text/html": [
       "<pre style=\"word-wrap: normal;white-space: pre;background: #fff0;line-height: 1.1;font-family: &quot;Courier New&quot;,Courier,monospace\">               ┌─────────────────┐                                         »\n",
       "qubit_0: ──────┤ Initialize(0,1) ├─────────────────────────────────────────»\n",
       "               ├─────────────────┤                                         »\n",
       "qubit_1: ──────┤ Initialize(1,0) ├─────────────────────────────────────────»\n",
       "               ├─────────────────┤                 ┌───┐┌─────┐       ┌───┐»\n",
       "qubit_2: ──────┤ Initialize(1,0) ├─────────■───────┤ X ├┤ Tdg ├───────┤ X ├»\n",
       "               ├─────────────────┤         │       └─┬─┘└┬───┬┘┌─────┐└─┬─┘»\n",
       "qubit_3: ──────┤ Initialize(0,1) ├─────────┼────■────┼───┤ X ├─┤ Tdg ├──┼──»\n",
       "         ┌─────┴─────────────────┴──────┐┌─┴─┐┌─┴─┐  │   └─┬─┘ └┬───┬┘  │  »\n",
       "qubit_4: ┤ Initialize(0.70711,0.5+0.5j) ├┤ X ├┤ X ├──■─────■────┤ T ├───■──»\n",
       "         └──────────────────────────────┘└───┘└───┘             └───┘      »\n",
       "«                                                                              »\n",
       "«qubit_0: ─────────────────────────────────────────────────────────────────────»\n",
       "«                                                                              »\n",
       "«qubit_1: ─────────────────────────────────────────────────────────────────────»\n",
       "«                                         ┌───┐ ┌───┐ ┌───┐                    »\n",
       "«qubit_2: ────────────────────────────────┤ X ├─┤ T ├─┤ X ├───────■─────────■──»\n",
       "«         ┌───┐                      ┌───┐└─┬─┘ ├───┤ └─┬─┘┌───┐  │         │  »\n",
       "«qubit_3: ┤ X ├──────────────────────┤ X ├──┼───┤ T ├───┼──┤ X ├──┼────■────┼──»\n",
       "«         └─┬─┘┌───┐┌───┐┌─────┐┌───┐└─┬─┘  │  ┌┴───┴┐  │  └─┬─┘┌─┴─┐┌─┴─┐┌─┴─┐»\n",
       "«qubit_4: ──■──┤ H ├┤ S ├┤ Sdg ├┤ H ├──■────■──┤ Tdg ├──■────■──┤ X ├┤ X ├┤ X ├»\n",
       "«              └───┘└───┘└─────┘└───┘          └─────┘          └───┘└───┘└───┘»\n",
       "«                                                                           »\n",
       "«qubit_0: ──────────────────────────────────────────────────────────────────»\n",
       "«                                                                           »\n",
       "«qubit_1: ──────────────────────────────────────────────────────────────────»\n",
       "«              ┌───┐┌─────┐       ┌───┐                                ┌───┐»\n",
       "«qubit_2: ─────┤ X ├┤ Tdg ├───────┤ X ├────────────────────────────────┤ X ├»\n",
       "«              └─┬─┘└┬───┬┘┌─────┐└─┬─┘┌───┐                      ┌───┐└─┬─┘»\n",
       "«qubit_3: ──■────┼───┤ X ├─┤ Tdg ├──┼──┤ X ├──────────────────────┤ X ├──┼──»\n",
       "«         ┌─┴─┐  │   └─┬─┘ └┬───┬┘  │  └─┬─┘┌───┐┌───┐┌─────┐┌───┐└─┬─┘  │  »\n",
       "«qubit_4: ┤ X ├──■─────■────┤ T ├───■────■──┤ H ├┤ S ├┤ Sdg ├┤ H ├──■────■──»\n",
       "«         └───┘             └───┘           └───┘└───┘└─────┘└───┘          »\n",
       "«                                    \n",
       "«qubit_0: ───────────────────────────\n",
       "«                                    \n",
       "«qubit_1: ───────────────────────────\n",
       "«          ┌───┐ ┌───┐               \n",
       "«qubit_2: ─┤ T ├─┤ X ├───────■───────\n",
       "«          ├───┤ └─┬─┘┌───┐  │       \n",
       "«qubit_3: ─┤ T ├───┼──┤ X ├──┼────■──\n",
       "«         ┌┴───┴┐  │  └─┬─┘┌─┴─┐┌─┴─┐\n",
       "«qubit_4: ┤ Tdg ├──■────■──┤ X ├┤ X ├\n",
       "«         └─────┘          └───┘└───┘</pre>"
      ],
      "text/plain": [
       "               ┌─────────────────┐                                         »\n",
       "qubit_0: ──────┤ Initialize(0,1) ├─────────────────────────────────────────»\n",
       "               ├─────────────────┤                                         »\n",
       "qubit_1: ──────┤ Initialize(1,0) ├─────────────────────────────────────────»\n",
       "               ├─────────────────┤                 ┌───┐┌─────┐       ┌───┐»\n",
       "qubit_2: ──────┤ Initialize(1,0) ├─────────■───────┤ X ├┤ Tdg ├───────┤ X ├»\n",
       "               ├─────────────────┤         │       └─┬─┘└┬───┬┘┌─────┐└─┬─┘»\n",
       "qubit_3: ──────┤ Initialize(0,1) ├─────────┼────■────┼───┤ X ├─┤ Tdg ├──┼──»\n",
       "         ┌─────┴─────────────────┴──────┐┌─┴─┐┌─┴─┐  │   └─┬─┘ └┬───┬┘  │  »\n",
       "qubit_4: ┤ Initialize(0.70711,0.5+0.5j) ├┤ X ├┤ X ├──■─────■────┤ T ├───■──»\n",
       "         └──────────────────────────────┘└───┘└───┘             └───┘      »\n",
       "«                                                                              »\n",
       "«qubit_0: ─────────────────────────────────────────────────────────────────────»\n",
       "«                                                                              »\n",
       "«qubit_1: ─────────────────────────────────────────────────────────────────────»\n",
       "«                                         ┌───┐ ┌───┐ ┌───┐                    »\n",
       "«qubit_2: ────────────────────────────────┤ X ├─┤ T ├─┤ X ├───────■─────────■──»\n",
       "«         ┌───┐                      ┌───┐└─┬─┘ ├───┤ └─┬─┘┌───┐  │         │  »\n",
       "«qubit_3: ┤ X ├──────────────────────┤ X ├──┼───┤ T ├───┼──┤ X ├──┼────■────┼──»\n",
       "«         └─┬─┘┌───┐┌───┐┌─────┐┌───┐└─┬─┘  │  ┌┴───┴┐  │  └─┬─┘┌─┴─┐┌─┴─┐┌─┴─┐»\n",
       "«qubit_4: ──■──┤ H ├┤ S ├┤ Sdg ├┤ H ├──■────■──┤ Tdg ├──■────■──┤ X ├┤ X ├┤ X ├»\n",
       "«              └───┘└───┘└─────┘└───┘          └─────┘          └───┘└───┘└───┘»\n",
       "«                                                                           »\n",
       "«qubit_0: ──────────────────────────────────────────────────────────────────»\n",
       "«                                                                           »\n",
       "«qubit_1: ──────────────────────────────────────────────────────────────────»\n",
       "«              ┌───┐┌─────┐       ┌───┐                                ┌───┐»\n",
       "«qubit_2: ─────┤ X ├┤ Tdg ├───────┤ X ├────────────────────────────────┤ X ├»\n",
       "«              └─┬─┘└┬───┬┘┌─────┐└─┬─┘┌───┐                      ┌───┐└─┬─┘»\n",
       "«qubit_3: ──■────┼───┤ X ├─┤ Tdg ├──┼──┤ X ├──────────────────────┤ X ├──┼──»\n",
       "«         ┌─┴─┐  │   └─┬─┘ └┬───┬┘  │  └─┬─┘┌───┐┌───┐┌─────┐┌───┐└─┬─┘  │  »\n",
       "«qubit_4: ┤ X ├──■─────■────┤ T ├───■────■──┤ H ├┤ S ├┤ Sdg ├┤ H ├──■────■──»\n",
       "«         └───┘             └───┘           └───┘└───┘└─────┘└───┘          »\n",
       "«                                    \n",
       "«qubit_0: ───────────────────────────\n",
       "«                                    \n",
       "«qubit_1: ───────────────────────────\n",
       "«          ┌───┐ ┌───┐               \n",
       "«qubit_2: ─┤ T ├─┤ X ├───────■───────\n",
       "«          ├───┤ └─┬─┘┌───┐  │       \n",
       "«qubit_3: ─┤ T ├───┼──┤ X ├──┼────■──\n",
       "«         ┌┴───┴┐  │  └─┬─┘┌─┴─┐┌─┴─┐\n",
       "«qubit_4: ┤ Tdg ├──■────■──┤ X ├┤ X ├\n",
       "«         └─────┘          └───┘└───┘"
      ]
     },
     "execution_count": 72,
     "metadata": {},
     "output_type": "execute_result"
    }
   ],
   "source": [
    "#addition_1(qc, 0, 1,2,3,4)\n",
    "AND_computation(qc, qr[2],qr[3],qr[4])\n",
    "AND_uncomputation(qc, qr[2],qr[3],qr[4])\n",
    "qc.draw()"
   ]
  },
  {
   "cell_type": "code",
   "execution_count": 73,
   "metadata": {},
   "outputs": [
    {
     "name": "stdout",
     "output_type": "stream",
     "text": [
      "Statevector([0.        +0.00000000e+00j, 0.        +0.00000000e+00j,\n",
      "             0.        +0.00000000e+00j, 0.        +0.00000000e+00j,\n",
      "             0.        +0.00000000e+00j, 0.        +0.00000000e+00j,\n",
      "             0.        +0.00000000e+00j, 0.        +0.00000000e+00j,\n",
      "             0.        +0.00000000e+00j, 0.70710678-2.22044605e-16j,\n",
      "             0.        +0.00000000e+00j, 0.        +0.00000000e+00j,\n",
      "             0.        +0.00000000e+00j, 0.        +0.00000000e+00j,\n",
      "             0.        +0.00000000e+00j, 0.        +0.00000000e+00j,\n",
      "             0.        +0.00000000e+00j, 0.        +0.00000000e+00j,\n",
      "             0.        +0.00000000e+00j, 0.        +0.00000000e+00j,\n",
      "             0.        +0.00000000e+00j, 0.        +0.00000000e+00j,\n",
      "             0.        +0.00000000e+00j, 0.        +0.00000000e+00j,\n",
      "             0.        +0.00000000e+00j, 0.5       +5.00000000e-01j,\n",
      "             0.        +0.00000000e+00j, 0.        +0.00000000e+00j,\n",
      "             0.        +0.00000000e+00j, 0.        +0.00000000e+00j,\n",
      "             0.        +0.00000000e+00j, 0.        +0.00000000e+00j],\n",
      "            dims=(2, 2, 2, 2, 2))\n"
     ]
    },
    {
     "data": {
      "text/latex": [
       "$$\n",
       "\\text{Statevector = }\n",
       "\\begin{bmatrix}\n",
       "0 & 0 & 0 & 0 & \\cdots & 0 & 0 & 0  \\\\\n",
       " \\end{bmatrix}\n",
       "$$"
      ],
      "text/plain": [
       "<IPython.core.display.Latex object>"
      ]
     },
     "execution_count": 73,
     "metadata": {},
     "output_type": "execute_result"
    }
   ],
   "source": [
    "svsim = Aer.get_backend('qasm_simulator')\n",
    "qc.save_statevector()\n",
    "qobj = assemble(qc)\n",
    "final_state = svsim.run(qobj).result().get_statevector()\n",
    "print(final_state)\n",
    "array_to_latex(final_state, prefix=\"\\\\text{Statevector = }\")"
   ]
  },
  {
   "cell_type": "code",
   "execution_count": 84,
   "metadata": {},
   "outputs": [
    {
     "data": {
      "text/html": [
       "<pre style=\"word-wrap: normal;white-space: pre;background: #fff0;line-height: 1.1;font-family: &quot;Courier New&quot;,Courier,monospace\">     ┌─────────────────┐ ░                ┌───┐┌─────┐            ┌───┐     »\n",
       "q_0: ┤ Initialize(0,1) ├─░────────■───────┤ X ├┤ Tdg ├────────────┤ X ├─────»\n",
       "     ├─────────────────┤ ░        │  ┌───┐└─┬─┘└─────┘┌─────┐     └─┬─┘┌───┐»\n",
       "q_1: ┤ Initialize(0,1) ├─░────────┼──┤ X ├──┼─────■───┤ Tdg ├──■────┼──┤ X ├»\n",
       "     └─────────────────┘ ░ ┌───┐  │  └─┬─┘  │     │   └┬───┬┘  │    │  └─┬─┘»\n",
       "q_2: ────────|0>─────────░─┤ H ├──┼────■────■─────┼────┤ T ├───┼────■────■──»\n",
       "                         ░ └───┘┌─┴─┐           ┌─┴─┐  ├───┤ ┌─┴─┐          »\n",
       "q_3: ────────|0>─────────░──────┤ X ├───────────┤ X ├──┤ T ├─┤ X ├──────────»\n",
       "     ┌─────────────────┐ ░      └───┘           └───┘  └───┘ └───┘          »\n",
       "q_4: ┤ Initialize(1,0) ├────────────────────────────────────────────────────»\n",
       "     └─────────────────┘                                                    »\n",
       "c_0: ═══════════════════════════════════════════════════════════════════════»\n",
       "                                                                            »\n",
       "c_1: ═══════════════════════════════════════════════════════════════════════»\n",
       "                                                                            »\n",
       "c_2: ═══════════════════════════════════════════════════════════════════════»\n",
       "                                                                            »\n",
       "c_3: ═══════════════════════════════════════════════════════════════════════»\n",
       "                                                                            »\n",
       "«                ░           \n",
       "«q_0: ──■────────░───────────\n",
       "«       │        ░           \n",
       "«q_1: ──┼────────░───────────\n",
       "«       │  ┌───┐ ░ ┌───┐     \n",
       "«q_2: ──┼──┤ H ├─░─┤ S ├──■──\n",
       "«     ┌─┴─┐└───┘ ░ └───┘  │  \n",
       "«q_3: ┤ X ├──────░────────┼──\n",
       "«     └───┘      ░      ┌─┴─┐\n",
       "«q_4: ──────────────────┤ X ├\n",
       "«                       └───┘\n",
       "«c_0: ═══════════════════════\n",
       "«                            \n",
       "«c_1: ═══════════════════════\n",
       "«                            \n",
       "«c_2: ═══════════════════════\n",
       "«                            \n",
       "«c_3: ═══════════════════════\n",
       "«                            </pre>"
      ],
      "text/plain": [
       "     ┌─────────────────┐ ░                ┌───┐┌─────┐            ┌───┐     »\n",
       "q_0: ┤ Initialize(0,1) ├─░────────■───────┤ X ├┤ Tdg ├────────────┤ X ├─────»\n",
       "     ├─────────────────┤ ░        │  ┌───┐└─┬─┘└─────┘┌─────┐     └─┬─┘┌───┐»\n",
       "q_1: ┤ Initialize(0,1) ├─░────────┼──┤ X ├──┼─────■───┤ Tdg ├──■────┼──┤ X ├»\n",
       "     └─────────────────┘ ░ ┌───┐  │  └─┬─┘  │     │   └┬───┬┘  │    │  └─┬─┘»\n",
       "q_2: ────────|0>─────────░─┤ H ├──┼────■────■─────┼────┤ T ├───┼────■────■──»\n",
       "                         ░ └───┘┌─┴─┐           ┌─┴─┐  ├───┤ ┌─┴─┐          »\n",
       "q_3: ────────|0>─────────░──────┤ X ├───────────┤ X ├──┤ T ├─┤ X ├──────────»\n",
       "     ┌─────────────────┐ ░      └───┘           └───┘  └───┘ └───┘          »\n",
       "q_4: ┤ Initialize(1,0) ├────────────────────────────────────────────────────»\n",
       "     └─────────────────┘                                                    »\n",
       "c_0: ═══════════════════════════════════════════════════════════════════════»\n",
       "                                                                            »\n",
       "c_1: ═══════════════════════════════════════════════════════════════════════»\n",
       "                                                                            »\n",
       "c_2: ═══════════════════════════════════════════════════════════════════════»\n",
       "                                                                            »\n",
       "c_3: ═══════════════════════════════════════════════════════════════════════»\n",
       "                                                                            »\n",
       "«                ░           \n",
       "«q_0: ──■────────░───────────\n",
       "«       │        ░           \n",
       "«q_1: ──┼────────░───────────\n",
       "«       │  ┌───┐ ░ ┌───┐     \n",
       "«q_2: ──┼──┤ H ├─░─┤ S ├──■──\n",
       "«     ┌─┴─┐└───┘ ░ └───┘  │  \n",
       "«q_3: ┤ X ├──────░────────┼──\n",
       "«     └───┘      ░      ┌─┴─┐\n",
       "«q_4: ──────────────────┤ X ├\n",
       "«                       └───┘\n",
       "«c_0: ═══════════════════════\n",
       "«                            \n",
       "«c_1: ═══════════════════════\n",
       "«                            \n",
       "«c_2: ═══════════════════════\n",
       "«                            \n",
       "«c_3: ═══════════════════════\n",
       "«                            "
      ]
     },
     "execution_count": 84,
     "metadata": {},
     "output_type": "execute_result"
    }
   ],
   "source": [
    "from qiskit import QuantumRegister, ClassicalRegister, QuantumCircuit\n",
    "from numpy import pi\n",
    "\n",
    "qreg_q = QuantumRegister(5, 'q')\n",
    "#creg_c = ClassicalRegister(4, 'c')\n",
    "circuit = QuantumCircuit(qreg_q, creg_c)\n",
    "\n",
    "circuit.initialize(ONE, qreg_q[0])\n",
    "circuit.initialize(ONE, qreg_q[1])\n",
    "circuit.initialize(ZERO, qreg_q[4])\n",
    "#circuit.initialize('11000', qreg_q)\n",
    "\n",
    "circuit.reset(qreg_q[2])\n",
    "circuit.reset(qreg_q[3])\n",
    "circuit.barrier(qreg_q[0], qreg_q[1], qreg_q[2], qreg_q[3])\n",
    "circuit.h(qreg_q[2])\n",
    "circuit.cx(qreg_q[0], qreg_q[3])\n",
    "circuit.cx(qreg_q[2], qreg_q[1])\n",
    "circuit.cx(qreg_q[2], qreg_q[0])\n",
    "circuit.cx(qreg_q[1], qreg_q[3])\n",
    "circuit.tdg(qreg_q[0])\n",
    "circuit.tdg(qreg_q[1])\n",
    "circuit.t(qreg_q[2])\n",
    "circuit.t(qreg_q[3])\n",
    "circuit.cx(qreg_q[1], qreg_q[3])\n",
    "circuit.cx(qreg_q[2], qreg_q[0])\n",
    "circuit.cx(qreg_q[2], qreg_q[1])\n",
    "circuit.cx(qreg_q[0], qreg_q[3])\n",
    "circuit.h(qreg_q[2])\n",
    "circuit.barrier(qreg_q[0], qreg_q[1], qreg_q[2], qreg_q[3])\n",
    "circuit.s(qreg_q[2])\n",
    "circuit.cx(qreg_q[2], qreg_q[4])\n",
    "# @columns [0,0,1,2,3,4,5,6,7,7,7,7,8,9,10,11,12,13,14,15]\n",
    "circuit.draw()"
   ]
  },
  {
   "cell_type": "code",
   "execution_count": 85,
   "metadata": {},
   "outputs": [
    {
     "name": "stdout",
     "output_type": "stream",
     "text": [
      "Statevector([ 0.000000e+00+0.00000000e+00j,  0.000000e+00+0.00000000e+00j,\n",
      "              0.000000e+00+0.00000000e+00j,  6.123234e-17-1.66533454e-16j,\n",
      "             -0.000000e+00+0.00000000e+00j, -0.000000e+00+0.00000000e+00j,\n",
      "             -0.000000e+00+0.00000000e+00j, -0.000000e+00+0.00000000e+00j,\n",
      "              0.000000e+00+0.00000000e+00j,  0.000000e+00+0.00000000e+00j,\n",
      "              0.000000e+00+0.00000000e+00j,  0.000000e+00+0.00000000e+00j,\n",
      "             -0.000000e+00+0.00000000e+00j, -0.000000e+00+0.00000000e+00j,\n",
      "             -0.000000e+00+0.00000000e+00j, -0.000000e+00+0.00000000e+00j,\n",
      "              0.000000e+00+0.00000000e+00j,  0.000000e+00+0.00000000e+00j,\n",
      "              0.000000e+00+0.00000000e+00j,  0.000000e+00+0.00000000e+00j,\n",
      "             -0.000000e+00+0.00000000e+00j, -0.000000e+00+0.00000000e+00j,\n",
      "             -0.000000e+00+0.00000000e+00j,  1.000000e+00-6.12323400e-17j,\n",
      "              0.000000e+00+0.00000000e+00j,  0.000000e+00+0.00000000e+00j,\n",
      "              0.000000e+00+0.00000000e+00j,  0.000000e+00+0.00000000e+00j,\n",
      "             -0.000000e+00+0.00000000e+00j, -0.000000e+00+0.00000000e+00j,\n",
      "             -0.000000e+00+0.00000000e+00j, -0.000000e+00+0.00000000e+00j],\n",
      "            dims=(2, 2, 2, 2, 2))\n"
     ]
    },
    {
     "data": {
      "text/latex": [
       "$$\n",
       "\\text{Statevector = }\n",
       "\\begin{bmatrix}\n",
       "0 & 0 & 0 & 0 & \\cdots & 0 & 0 & 0  \\\\\n",
       " \\end{bmatrix}\n",
       "$$"
      ],
      "text/plain": [
       "<IPython.core.display.Latex object>"
      ]
     },
     "execution_count": 85,
     "metadata": {},
     "output_type": "execute_result"
    }
   ],
   "source": [
    "svsim = Aer.get_backend('qasm_simulator')\n",
    "circuit.save_statevector()\n",
    "qobj = assemble(circuit)\n",
    "final_state = svsim.run(qobj).result().get_statevector()\n",
    "print(final_state)\n",
    "array_to_latex(final_state, prefix=\"\\\\text{Statevector = }\")"
   ]
  },
  {
   "cell_type": "code",
   "execution_count": 86,
   "metadata": {},
   "outputs": [
    {
     "name": "stderr",
     "output_type": "stream",
     "text": [
      "configrc.store_credentials:WARNING:2022-11-04 18:05:21,170: Credentials already present. Set overwrite=True to overwrite.\n",
      "ibmqfactory.load_account:WARNING:2022-11-04 18:05:22,319: Credentials are already in use. The existing account in the session will be replaced.\n"
     ]
    },
    {
     "data": {
      "text/plain": [
       "<AccountProvider for IBMQ(hub='ibm-q', group='open', project='main')>"
      ]
     },
     "execution_count": 86,
     "metadata": {},
     "output_type": "execute_result"
    }
   ],
   "source": [
    "from qiskit import IBMQ, assemble, transpile\n",
    "from qiskit.circuit.random import random_circuit\n",
    "\n",
    "IBMQ.save_account('')\n",
    "IBMQ.load_account()\n",
    "\n"
   ]
  },
  {
   "cell_type": "code",
   "execution_count": 77,
   "metadata": {},
   "outputs": [
    {
     "name": "stdout",
     "output_type": "stream",
     "text": [
      "ibmq_qasm_simulator\n",
      "ibmq_lima\n",
      "ibmq_belem\n",
      "ibmq_quito\n",
      "simulator_statevector\n",
      "simulator_mps\n",
      "simulator_extended_stabilizer\n",
      "simulator_stabilizer\n",
      "ibmq_manila\n",
      "ibm_nairobi\n",
      "ibm_oslo\n"
     ]
    }
   ],
   "source": [
    "provider = IBMQ.get_provider(hub='ibm-q')\n",
    "for backend in provider.backends():\n",
    "    print(backend)"
   ]
  },
  {
   "cell_type": "code",
   "execution_count": 80,
   "metadata": {},
   "outputs": [
    {
     "ename": "IBMQJobFailureError",
     "evalue": "\"Unable to retrieve result for job 6364d4c2754e463a924ccaea. Job has failed: The Qobj uses gates (['save_statevector']) that are not among the basis gates (['u1', 'u2', 'u3', 'u', 'p', 'r', 'rx', 'ry', 'rz', 'id', 'x', 'y', 'z', 'h', 's', 'sdg', 'sx', 't', 'tdg', 'swap', 'cx', 'cy', 'cz', 'csx', 'cp', 'cu1', 'cu2', 'cu3', 'rxx', 'ryy', 'rzz', 'rzx', 'ccx', 'cswap', 'mcx', 'mcy', 'mcz', 'mcsx', 'mcp', 'mcu1', 'mcu2', 'mcu3', 'mcrx', 'mcry', 'mcrz', 'mcr', 'mcswap', 'unitary', 'diagonal', 'multiplexer', 'initialize', 'kraus', 'roerror', 'delay']). Error code: 1106.\"",
     "output_type": "error",
     "traceback": [
      "\u001b[0;31m---------------------------------------------------------------------------\u001b[0m",
      "\u001b[0;31mIBMQJobFailureError\u001b[0m                       Traceback (most recent call last)",
      "Cell \u001b[0;32mIn [80], line 4\u001b[0m\n\u001b[1;32m      2\u001b[0m \u001b[39m#circuit.save_statevector\u001b[39;00m\n\u001b[1;32m      3\u001b[0m qobj \u001b[39m=\u001b[39m assemble(circuit)\n\u001b[0;32m----> 4\u001b[0m final_state \u001b[39m=\u001b[39m real_device\u001b[39m.\u001b[39;49mrun(qobj)\u001b[39m.\u001b[39;49mresult()\n\u001b[1;32m      5\u001b[0m array_to_latex(final_state, prefix\u001b[39m=\u001b[39m\u001b[39m\"\u001b[39m\u001b[39m\\\\\u001b[39;00m\u001b[39mtext\u001b[39m\u001b[39m{\u001b[39m\u001b[39mStatevector = }\u001b[39m\u001b[39m\"\u001b[39m)\n",
      "File \u001b[0;32m~/python/venv/lib/python3.8/site-packages/qiskit/providers/ibmq/job/ibmqjob.py:290\u001b[0m, in \u001b[0;36mIBMQJob.result\u001b[0;34m(self, timeout, wait, partial, refresh)\u001b[0m\n\u001b[1;32m    288\u001b[0m         \u001b[39melse\u001b[39;00m:\n\u001b[1;32m    289\u001b[0m             error_message \u001b[39m=\u001b[39m \u001b[39m\"\u001b[39m\u001b[39m: \u001b[39m\u001b[39m\"\u001b[39m \u001b[39m+\u001b[39m error_message\n\u001b[0;32m--> 290\u001b[0m         \u001b[39mraise\u001b[39;00m IBMQJobFailureError(\n\u001b[1;32m    291\u001b[0m             \u001b[39m'\u001b[39m\u001b[39mUnable to retrieve result for job \u001b[39m\u001b[39m{}\u001b[39;00m\u001b[39m. Job has failed\u001b[39m\u001b[39m{}\u001b[39;00m\u001b[39m'\u001b[39m\u001b[39m.\u001b[39mformat(\n\u001b[1;32m    292\u001b[0m                 \u001b[39mself\u001b[39m\u001b[39m.\u001b[39mjob_id(), error_message))\n\u001b[1;32m    293\u001b[0m \u001b[39melse\u001b[39;00m:\n\u001b[1;32m    294\u001b[0m     \u001b[39mself\u001b[39m\u001b[39m.\u001b[39m_retrieve_result(refresh\u001b[39m=\u001b[39mrefresh)\n",
      "\u001b[0;31mIBMQJobFailureError\u001b[0m: \"Unable to retrieve result for job 6364d4c2754e463a924ccaea. Job has failed: The Qobj uses gates (['save_statevector']) that are not among the basis gates (['u1', 'u2', 'u3', 'u', 'p', 'r', 'rx', 'ry', 'rz', 'id', 'x', 'y', 'z', 'h', 's', 'sdg', 'sx', 't', 'tdg', 'swap', 'cx', 'cy', 'cz', 'csx', 'cp', 'cu1', 'cu2', 'cu3', 'rxx', 'ryy', 'rzz', 'rzx', 'ccx', 'cswap', 'mcx', 'mcy', 'mcz', 'mcsx', 'mcp', 'mcu1', 'mcu2', 'mcu3', 'mcrx', 'mcry', 'mcrz', 'mcr', 'mcswap', 'unitary', 'diagonal', 'multiplexer', 'initialize', 'kraus', 'roerror', 'delay']). Error code: 1106.\""
     ]
    }
   ],
   "source": [
    "real_device = provider.get_backend('simulator_statevector')\n",
    "#circuit.save_statevector\n",
    "qobj = assemble(circuit)\n",
    "final_state = real_device.run(qobj).result()\n",
    "array_to_latex(final_state, prefix=\"\\\\text{Statevector = }\")"
   ]
  },
  {
   "cell_type": "code",
   "execution_count": null,
   "metadata": {},
   "outputs": [],
   "source": []
  }
 ],
 "metadata": {
  "kernelspec": {
   "display_name": "Python 3.8.10 ('venv': venv)",
   "language": "python",
   "name": "python3"
  },
  "language_info": {
   "codemirror_mode": {
    "name": "ipython",
    "version": 3
   },
   "file_extension": ".py",
   "mimetype": "text/x-python",
   "name": "python",
   "nbconvert_exporter": "python",
   "pygments_lexer": "ipython3",
   "version": "3.8.10"
  },
  "orig_nbformat": 4,
  "vscode": {
   "interpreter": {
    "hash": "77686b2956eb091a2634979e0dd247cd828b8ebcde9d383f07d43c2b6050a208"
   }
  }
 },
 "nbformat": 4,
 "nbformat_minor": 2
}
